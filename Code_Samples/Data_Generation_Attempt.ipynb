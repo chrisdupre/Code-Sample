{
 "cells": [
  {
   "cell_type": "code",
   "execution_count": null,
   "metadata": {},
   "outputs": [],
   "source": [
    "import Helpful_functions as hf\n",
    "import numpy as np\n",
    "import scipy as sp\n",
    "import matplotlib.pyplot as plt"
   ]
  },
  {
   "cell_type": "markdown",
   "metadata": {},
   "source": [
    "In this notebook, we are going to perform a data generation and fitting procedure for a rigid body with body velocity $v(t)$ and angular velocity $\\omega(t)$. We then fit a DMD model on this using a Lie Series to see if we can reconstruct the dynamics."
   ]
  },
  {
   "cell_type": "markdown",
   "metadata": {},
   "source": [
    "First, we generate the data"
   ]
  },
  {
   "cell_type": "code",
   "execution_count": null,
   "metadata": {},
   "outputs": [],
   "source": [
    "def step(p,R,v,omega,delta_t):\n",
    "    # Method to step forward the dynamics my a small step\n",
    "    R_step = sp.linalg.expm(delta_t*hf.hat(omega))\n",
    "    return p+R@v*delta_t, R@R_step \n",
    "    \n",
    "def v(t):\n",
    "    # Velocity in the body frame\n",
    "    return np.array([np.cos(t),3,np.sin(t)])\n",
    "\n",
    "def omega(t):\n",
    "    # Angular velocity in the body frame\n",
    "    return np.array([np.cos(t),np.sin(t),np.cos(4*t)])\n",
    "\n",
    "#Random initial conditions\n",
    "p0 = np.zeros(3)\n",
    "R0 = hf.sample_SO3()\n",
    "\n",
    "#Time Parameters\n",
    "tmin = 0\n",
    "tmax = 10\n",
    "n = 100\n",
    "delta_t = (tmax-tmin)/n\n",
    "#Initialize state\n",
    "p = p0\n",
    "R = R0\n",
    "v0 = v(tmin)\n",
    "omega0 = omega(tmin)\n",
    "#Initialize arrays\n",
    "times = np.linspace(tmin,tmax,n)\n",
    "p_arr = np.zeros((3,len(times)))\n",
    "R_arr = np.zeros((3,3,len(times)))\n",
    "v_arr = np.zeros((3,len(times)))\n",
    "omega_r = np.zeros((3,len(times)))\n",
    "#Populate arrays\n",
    "p_arr[:,0] = p0\n",
    "R_arr[:,:,0] = R0\n",
    "v_arr[:,0] = v0\n",
    "omega_r[:,0] = omega0\n",
    "for k in range(len(times)-1):\n",
    "    p,R = step(p,R,v(times[k]),omega(times[k]),delta_t)\n",
    "    p_arr[:,k+1] = p\n",
    "    R_arr[:,:,k+1] = R\n",
    "    v_arr[:,k+1] = v(times[k+1])\n",
    "    omega_r[:,k+1] = omega(times[k+1])"
   ]
  },
  {
   "cell_type": "markdown",
   "metadata": {},
   "source": [
    "Let's go ahead and plot the position of our particle"
   ]
  },
  {
   "cell_type": "code",
   "execution_count": null,
   "metadata": {},
   "outputs": [],
   "source": [
    "ax = plt.figure().add_subplot(projection='3d')\n",
    "x = p_arr[0,:]\n",
    "y = p_arr[1,:]\n",
    "z = p_arr[2,:]\n",
    "ax.plot(x, y, z,color=\"orange\")\n",
    "plt.show()"
   ]
  },
  {
   "cell_type": "markdown",
   "metadata": {},
   "source": [
    "## Now let's perform the lifitng"
   ]
  },
  {
   "cell_type": "code",
   "execution_count": null,
   "metadata": {},
   "outputs": [],
   "source": [
    "def form_lifting(p,v,R,omega,n,LCT=None,ang_max = 10):\n",
    "    \"\"\"\n",
    "    Function to perform lifting of state into quaternionic frame\n",
    "\n",
    "    Parameters:\n",
    "    -----------\n",
    "    p: Position in space\n",
    "    v: Velocity in space\n",
    "    R: Initial rotational configuration given by an element of SO(3)\n",
    "    omega: Angular velocity about the moving frame\n",
    "    \"\"\"\n",
    "    omega_hat = hf.hat(omega/ang_max,LCT=LCT)\n",
    "    lifted = np.zeros(24+9*n)\n",
    "    lifted[0:3] = p\n",
    "    lifted[3:6] = v\n",
    "    lifted[6:15] = R.flatten()\n",
    "    start_index=24\n",
    "    lifted[15:24] = omega_hat.flatten()\n",
    "    interm = R\n",
    "    for k in range(n):\n",
    "        interm = R@omega_hat\n",
    "        lifted[start_index+9*k:start_index+9*(k+1)] = interm.flatten()\n",
    "    return lifted\n",
    "\n",
    "def form_lifting_delay(p_arr,v_arr,R_arr,omega_arr,n,ang_max,LCT = None):\n",
    "    \"\"\"\n",
    "    Used for lifting a delay embedded version for faster \n",
    "    initial condition recovery\n",
    "\n",
    "    Parameters:\n",
    "    ----------\n",
    "    p_arr: np.array: Array of position vectors, columns are snapshots\n",
    "    v_arr: np.array: Array of velocity vectors, columns are snapshots\n",
    "    R_arr: np.array: Tensor of Rotation matrices, last index corresponds to each snapshot\n",
    "    omega_arr: np.array: Array of angular velocity vectors, last index \n",
    "        corresponds to each snapshot\n",
    "\n",
    "    Outputs:\n",
    "    -------\n",
    "    lifted_arr: np.array: Lifted array\n",
    "    \"\"\"\n",
    "    m = p_arr.shape[-1]\n",
    "    base_size = 24+9*n\n",
    "    lifted_arr = np.zeros(m*base_size)\n",
    "    if not np.all(LCT):\n",
    "        LCT = hf.levi_cevita_tensor()\n",
    "    for k in range(m):\n",
    "        curr_p = p_arr[:,k]\n",
    "        curr_v = v_arr[:,k]\n",
    "        curr_R = R_arr[:,:,k]\n",
    "        curr_omega = omega_arr[:,k]\n",
    "        lifted_arr[k*base_size:(k+1)*base_size] = form_lifting(p=curr_p,v=curr_v,R=curr_R,\n",
    "                                                               omega=curr_omega,n=n,LCT=LCT,ang_max=ang_max)\n",
    "    return lifted_arr\n",
    "\n",
    "\n",
    "def basic_DMD(X,Y,rrr=False):\n",
    "    \"\"\"\n",
    "    Basic Exact Dynamic Mode Decomposition with\n",
    "    the option to use Rayleigh-Ritz Refinement (RRR)\n",
    "\n",
    "    Parameters:\n",
    "    ----------\n",
    "    X: np.array: Pre-action snapshot data. Columns are \n",
    "        timesteps, rows are features.\n",
    "    Y: np.array: Post-action snapshot data. Columns are \n",
    "        timesteps, rows are features.\n",
    "    rrr: bool: Whether or not to use Rayleigh-Ritz refinement\n",
    "        Default is False which corresponds to not using RRR\n",
    "\n",
    "    Outputs:\n",
    "    -------\n",
    "    eigvals: np.array: Eigenvalues of model\n",
    "    eigvecs: np.array: Eigenvector array\n",
    "    \"\"\"\n",
    "    U,s,Vh = np.linalg.svd(X,full_matrices=False)\n",
    "    V = np.conjugate(np.transpose(Vh))\n",
    "    Uh = np.conjugate(np.transpose(U))\n",
    "    B = Y@V@np.diag(np.power(s,-1))\n",
    "    eigvals,eigvecs = np.linalg.eig(Uh@B)\n",
    "    if not(rrr):\n",
    "        return eigvals,U@eigvecs\n",
    "    if rrr:\n",
    "        new_eigvecs = eigvecs.copy()\n",
    "        for count,eig in enumerate(eigvals):\n",
    "            M = B-eig*U\n",
    "            _,_,Vh = np.linalg.svd(M)\n",
    "            new_eigvecs[:,count] = np.conjugate(Vh[-1,:])\n",
    "        return eigvals,new_eigvecs\n"
   ]
  },
  {
   "cell_type": "code",
   "execution_count": null,
   "metadata": {},
   "outputs": [],
   "source": [
    "n_lift = 10 #Number of terms in the Lie Series to include\n",
    "delays = 10 #Number of Delays to include \n",
    "ang_max=20 #Maximum Angular Velocity \n",
    "#Initialize lifted array, modified to haev correct shape\n",
    "N = 24+9*n_lift\n",
    "length = p_arr.shape[1]\n",
    "lifted_arr = np.zeros((N,length))\n",
    "#Initialize LCT to only form one time\n",
    "LCT = hf.levi_cevita_tensor()\n",
    "for j in range(length):\n",
    "    lifted_arr[:,j] = form_lifting(p_arr[:,j],v_arr[:,j],\n",
    "                                   R_arr[:,:,j],omega_r[:,j],n=n_lift,LCT=LCT,ang_max=ang_max)\n",
    "\n",
    "delay_arr =hf.delay_embdedding(lifted_arr,d=delays)\n",
    "\n",
    "#Seperate out X,Y and perform DMD\n",
    "X = delay_arr[:,:-1]\n",
    "Y = delay_arr[:,1:]\n",
    "eigvals,eigvecs = basic_DMD(X,Y) \n",
    "p_delay_arr = p_arr[:,:delays]\n",
    "v_delay = v_arr[:,:delays]\n",
    "R_delay = R_arr[:,:,:delays]\n",
    "omega_delay = omega_r[:,:delays]\n",
    "init = form_lifting_delay(p_delay_arr,v_delay,R_delay,omega_delay,n=n_lift,LCT=LCT,ang_max=ang_max)\n",
    "c0 = np.linalg.pinv(eigvecs)@init"
   ]
  },
  {
   "cell_type": "markdown",
   "metadata": {},
   "source": [
    "In this eigenvalue, eigenvector pair, it is clear that we can propagate the steps via the Vandermonde matrix. Unfortunately, the default Vandermonde matrix is backwards for our requirements, so we must flip the matrix."
   ]
  },
  {
   "cell_type": "code",
   "execution_count": null,
   "metadata": {},
   "outputs": [],
   "source": [
    "prediction = np.flip(np.einsum(\"j,jk,ij -> ik\",c0,np.vander(eigvals,n-delays+1),eigvecs),axis=1)"
   ]
  },
  {
   "cell_type": "code",
   "execution_count": null,
   "metadata": {},
   "outputs": [],
   "source": [
    "base_size = 24+9*n_lift\n",
    "x_prediction = prediction[-base_size,:]\n",
    "y_prediction = prediction[-base_size+1,:]\n",
    "z_prediction = prediction[-base_size+2,:]"
   ]
  },
  {
   "cell_type": "markdown",
   "metadata": {},
   "source": [
    "Now let us add plot our predictions against the true values to test "
   ]
  },
  {
   "cell_type": "code",
   "execution_count": null,
   "metadata": {},
   "outputs": [],
   "source": [
    "ax = plt.figure().add_subplot(projection='3d')\n",
    "ax.set_title(\"Reconstruction using Lie Series and Time Delays\")\n",
    "x = p_arr[0,delays-1:]\n",
    "y = p_arr[1,delays-1:]\n",
    "z = p_arr[2,delays-1:]\n",
    "ax.plot(x,y,z,label=\"True\",color=\"orange\")\n",
    "ax.plot(x_prediction,y_prediction,z_prediction,label=\"Prediction\",alpha=0.4,color=\"green\")\n",
    "ax.legend()\n",
    "plt.show()\n",
    "fig,axs = plt.subplots(1,3,tight_layout = True, figsize=(12,3))\n",
    "axs[0].plot(x,label=\"True\",color=\"orange\")\n",
    "axs[0].plot(x_prediction,label=\"Reconstruction\",color=\"green\",alpha=0.6)\n",
    "axs[0].set_title(\"X Position\")\n",
    "axs[0].legend()\n",
    "axs[1].plot(y,label=\"True\",color=\"orange\")\n",
    "axs[1].plot(y_prediction,label=\"Reconstruction\",color=\"green\",alpha=0.6)\n",
    "axs[1].legend()\n",
    "axs[1].set_title(\"Y Position\")\n",
    "axs[2].plot(z,label=\"True\",color=\"orange\")\n",
    "axs[2].plot(z_prediction,label=\"Reconstruction\",color=\"green\",alpha=0.6)\n",
    "axs[2].legend()\n",
    "axs[2].set_title(\"Z Position\")\n",
    "plt.show()"
   ]
  },
  {
   "cell_type": "code",
   "execution_count": null,
   "metadata": {},
   "outputs": [],
   "source": [
    "pred = np.vstack((x_prediction,y_prediction,z_prediction))\n",
    "true = np.vstack((x,y,z))\n",
    "print(f\"RMSE is {np.linalg.norm(pred-true)/np.sqrt(true.shape[1])}\")"
   ]
  },
  {
   "cell_type": "markdown",
   "metadata": {},
   "source": [
    "Now let us check the velocity reconstruction as well"
   ]
  },
  {
   "cell_type": "code",
   "execution_count": null,
   "metadata": {},
   "outputs": [],
   "source": [
    "vx = prediction[-base_size+3,:]\n",
    "vy = prediction[-base_size+4,:]\n",
    "vz = prediction[-base_size+5,:]\n",
    "fig,axs = plt.subplots(1,3,figsize=(9,3),tight_layout=True)\n",
    "fig.suptitle(\"Tracking of Frame Velocity\")\n",
    "axs[0].plot(np.real(vx))\n",
    "axs[0].set_title(\"X Velocity\")\n",
    "axs[1].plot(np.real(vy))\n",
    "axs[1].set_title(\"Y Velocity\")\n",
    "axs[2].plot(np.real(vz))\n",
    "axs[2].set_title(\"Z Velocity\")\n",
    "plt.show()"
   ]
  },
  {
   "cell_type": "markdown",
   "metadata": {},
   "source": [
    "Note we do not enforce that our predction stay in SO(3), so we may check to determine if this is adequately maintained.  "
   ]
  },
  {
   "cell_type": "code",
   "execution_count": null,
   "metadata": {},
   "outputs": [],
   "source": [
    "R_per = prediction[-base_size+6:-base_size+15,:].reshape((3,3,n-delays+1))\n",
    "det_time_series = [np.real(np.linalg.det(R_per[:,:,k])) for k in range(n-delays+1)]\n",
    "frobenius_time_series = [np.linalg.norm(R_per[:,:,k]@R_per[:,:,k].T-np.eye(3)) for k in range(n-delays+1)]\n",
    "fig,axs = plt.subplots(1,2,figsize=(8,3),sharey=False,tight_layout=True)\n",
    "fig.suptitle(\"Maintenance of SO(3)\")\n",
    "axs[0].plot(det_time_series)\n",
    "axs[0].set_title(\"Determinant Time Series\")\n",
    "axs[1].plot(frobenius_time_series)\n",
    "axs[1].set_title(\"Orthogonality Time Series\")\n",
    "plt.show()"
   ]
  }
 ],
 "metadata": {
  "kernelspec": {
   "display_name": "Python 3",
   "language": "python",
   "name": "python3"
  },
  "language_info": {
   "codemirror_mode": {
    "name": "ipython",
    "version": 3
   },
   "file_extension": ".py",
   "mimetype": "text/x-python",
   "name": "python",
   "nbconvert_exporter": "python",
   "pygments_lexer": "ipython3",
   "version": "3.11.2"
  }
 },
 "nbformat": 4,
 "nbformat_minor": 2
}
